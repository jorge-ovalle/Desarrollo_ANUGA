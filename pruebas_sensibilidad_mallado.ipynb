{
 "cells": [
  {
   "cell_type": "code",
   "execution_count": 1,
   "metadata": {},
   "outputs": [
    {
     "name": "stderr",
     "output_type": "stream",
     "text": [
      "/tmp/ipykernel_35679/1801362053.py:3: DeprecationWarning: \n",
      "Pyarrow will become a required dependency of pandas in the next major release of pandas (pandas 3.0),\n",
      "(to allow more performant data types, such as the Arrow string type, and better interoperability with other libraries)\n",
      "but was not found to be installed on your system.\n",
      "If this would cause problems for you,\n",
      "please provide us feedback at https://github.com/pandas-dev/pandas/issues/54466\n",
      "        \n",
      "  import pandas as pd\n"
     ]
    }
   ],
   "source": [
    "import numpy as np\n",
    "import matplotlib.pyplot as plt\n",
    "import pandas as pd\n",
    "import os\n",
    "import anuga\n",
    "import parameters as p\n",
    "%matplotlib inline\n",
    "\n",
    "# Allow inline jshtml animations\n",
    "from matplotlib import rc\n",
    "rc('animation', html='jshtml')"
   ]
  },
  {
   "cell_type": "markdown",
   "metadata": {},
   "source": [
    "# Cargado de datos"
   ]
  },
  {
   "cell_type": "code",
   "execution_count": 4,
   "metadata": {},
   "outputs": [],
   "source": [
    "''' PARÁMETROS '''\n",
    "\n",
    "INPUT_FOLDER = os.path.abspath(\"input\")\n",
    "CICLO = 9\n",
    "SECTORES = [5, 6]\n",
    "\n",
    "folder_ciclo = os.path.join(INPUT_FOLDER, f\"ciclo_{CICLO}\")"
   ]
  },
  {
   "cell_type": "code",
   "execution_count": 5,
   "metadata": {},
   "outputs": [],
   "source": [
    "''' DESCARGAS '''\n",
    "suffix_input = '_'.join([str(s) for s in SECTORES])\n",
    "df_descargas = pd.read_csv(os.path.join(folder_ciclo, \"input_sectores_{}.csv\".format(suffix_input)), parse_dates=['fecha'])"
   ]
  },
  {
   "cell_type": "code",
   "execution_count": 6,
   "metadata": {},
   "outputs": [],
   "source": [
    "''' RUTAS '''\n",
    "ruta_topografia = os.path.join(folder_ciclo, \"DEM_04.02.2023_10x10m.asc\")\n",
    "ruta_mascara_tranque = p.RUTA_MASK_TRANQUE\n",
    "ruta_sector_5 = os.path.join(folder_ciclo, \"poligono_sector_5.csv\")\n",
    "ruta_interior = os.path.join(folder_ciclo, \"zona_interior_sector_5.csv\")\n",
    "ruta_extension_sector_5 = os.path.join(folder_ciclo, \"extension_sector_5.csv\")"
   ]
  },
  {
   "cell_type": "code",
   "execution_count": 7,
   "metadata": {},
   "outputs": [],
   "source": [
    "''' MALLADO '''\n",
    "res_region = 100\n",
    "res_interior = 50"
   ]
  },
  {
   "cell_type": "markdown",
   "metadata": {},
   "source": [
    "# Construcción input"
   ]
  },
  {
   "cell_type": "code",
   "execution_count": 12,
   "metadata": {},
   "outputs": [],
   "source": [
    "df_input = df_descargas[df_descargas.sector == 5]\n",
    "df_input = df_input[df_input.fecha == df_input.fecha.min()]"
   ]
  },
  {
   "cell_type": "code",
   "execution_count": 13,
   "metadata": {},
   "outputs": [
    {
     "data": {
      "text/html": [
       "<div>\n",
       "<style scoped>\n",
       "    .dataframe tbody tr th:only-of-type {\n",
       "        vertical-align: middle;\n",
       "    }\n",
       "\n",
       "    .dataframe tbody tr th {\n",
       "        vertical-align: top;\n",
       "    }\n",
       "\n",
       "    .dataframe thead th {\n",
       "        text-align: right;\n",
       "    }\n",
       "</style>\n",
       "<table border=\"1\" class=\"dataframe\">\n",
       "  <thead>\n",
       "    <tr style=\"text-align: right;\">\n",
       "      <th></th>\n",
       "      <th>fecha</th>\n",
       "      <th>sector</th>\n",
       "      <th>id_punto</th>\n",
       "      <th>coordenada_x</th>\n",
       "      <th>coordenada_y</th>\n",
       "      <th>angulo_polar</th>\n",
       "      <th>tms</th>\n",
       "      <th>tasa_diaria</th>\n",
       "      <th>radio_canaleta</th>\n",
       "    </tr>\n",
       "  </thead>\n",
       "  <tbody>\n",
       "    <tr>\n",
       "      <th>153</th>\n",
       "      <td>2023-03-02</td>\n",
       "      <td>5</td>\n",
       "      <td>29</td>\n",
       "      <td>489215.492474</td>\n",
       "      <td>7.297292e+06</td>\n",
       "      <td>2.425051</td>\n",
       "      <td>22137.258627</td>\n",
       "      <td>0.961598</td>\n",
       "      <td>1.6345</td>\n",
       "    </tr>\n",
       "    <tr>\n",
       "      <th>154</th>\n",
       "      <td>2023-03-02</td>\n",
       "      <td>5</td>\n",
       "      <td>32</td>\n",
       "      <td>489082.721325</td>\n",
       "      <td>7.296706e+06</td>\n",
       "      <td>2.536601</td>\n",
       "      <td>22137.258627</td>\n",
       "      <td>0.961598</td>\n",
       "      <td>1.4370</td>\n",
       "    </tr>\n",
       "    <tr>\n",
       "      <th>155</th>\n",
       "      <td>2023-03-02</td>\n",
       "      <td>5</td>\n",
       "      <td>33</td>\n",
       "      <td>488926.557163</td>\n",
       "      <td>7.296312e+06</td>\n",
       "      <td>2.907850</td>\n",
       "      <td>22137.258627</td>\n",
       "      <td>0.961598</td>\n",
       "      <td>1.6430</td>\n",
       "    </tr>\n",
       "    <tr>\n",
       "      <th>156</th>\n",
       "      <td>2023-03-02</td>\n",
       "      <td>5</td>\n",
       "      <td>37</td>\n",
       "      <td>488770.083732</td>\n",
       "      <td>7.295805e+06</td>\n",
       "      <td>2.377836</td>\n",
       "      <td>44274.517254</td>\n",
       "      <td>1.923196</td>\n",
       "      <td>1.3145</td>\n",
       "    </tr>\n",
       "  </tbody>\n",
       "</table>\n",
       "</div>"
      ],
      "text/plain": [
       "         fecha  sector  id_punto   coordenada_x  coordenada_y  angulo_polar  \\\n",
       "153 2023-03-02       5        29  489215.492474  7.297292e+06      2.425051   \n",
       "154 2023-03-02       5        32  489082.721325  7.296706e+06      2.536601   \n",
       "155 2023-03-02       5        33  488926.557163  7.296312e+06      2.907850   \n",
       "156 2023-03-02       5        37  488770.083732  7.295805e+06      2.377836   \n",
       "\n",
       "              tms  tasa_diaria  radio_canaleta  \n",
       "153  22137.258627     0.961598          1.6345  \n",
       "154  22137.258627     0.961598          1.4370  \n",
       "155  22137.258627     0.961598          1.6430  \n",
       "156  44274.517254     1.923196          1.3145  "
      ]
     },
     "execution_count": 13,
     "metadata": {},
     "output_type": "execute_result"
    }
   ],
   "source": [
    "df_input"
   ]
  }
 ],
 "metadata": {
  "kernelspec": {
   "display_name": "anuga_env",
   "language": "python",
   "name": "python3"
  },
  "language_info": {
   "codemirror_mode": {
    "name": "ipython",
    "version": 3
   },
   "file_extension": ".py",
   "mimetype": "text/x-python",
   "name": "python",
   "nbconvert_exporter": "python",
   "pygments_lexer": "ipython3",
   "version": "3.10.12"
  }
 },
 "nbformat": 4,
 "nbformat_minor": 2
}
