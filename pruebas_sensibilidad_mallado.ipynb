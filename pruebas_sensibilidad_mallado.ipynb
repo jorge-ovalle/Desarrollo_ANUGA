{
 "cells": [
  {
   "cell_type": "code",
   "execution_count": 1,
   "metadata": {},
   "outputs": [
    {
     "name": "stderr",
     "output_type": "stream",
     "text": [
      "/tmp/ipykernel_16713/3561010909.py:3: DeprecationWarning: \n",
      "Pyarrow will become a required dependency of pandas in the next major release of pandas (pandas 3.0),\n",
      "(to allow more performant data types, such as the Arrow string type, and better interoperability with other libraries)\n",
      "but was not found to be installed on your system.\n",
      "If this would cause problems for you,\n",
      "please provide us feedback at https://github.com/pandas-dev/pandas/issues/54466\n",
      "        \n",
      "  import pandas as pd\n"
     ]
    }
   ],
   "source": [
    "import numpy as np\n",
    "import matplotlib.pyplot as plt\n",
    "import pandas as pd\n",
    "import os\n",
    "import parameters as p\n",
    "%matplotlib inline\n",
    "\n",
    "# Allow inline jshtml animations\n",
    "from matplotlib import rc\n",
    "rc('animation', html='jshtml')"
   ]
  },
  {
   "cell_type": "markdown",
   "metadata": {},
   "source": [
    "# Cargado de datos"
   ]
  },
  {
   "cell_type": "code",
   "execution_count": 2,
   "metadata": {},
   "outputs": [],
   "source": [
    "''' PARÁMETROS '''\n",
    "\n",
    "INPUT_FOLDER = os.path.abspath(\"input\")\n",
    "CICLO = 9\n",
    "SECTORES = [5, 6]\n",
    "\n",
    "folder_ciclo = os.path.join(INPUT_FOLDER, f\"ciclo_{CICLO}\")"
   ]
  },
  {
   "cell_type": "code",
   "execution_count": 3,
   "metadata": {},
   "outputs": [],
   "source": [
    "''' DESCARGAS '''\n",
    "suffix_input = '_'.join([str(s) for s in SECTORES])\n",
    "df_descargas = pd.read_csv(os.path.join(folder_ciclo, \"input_sectores_{}.csv\".format(suffix_input)), parse_dates=['fecha'])"
   ]
  },
  {
   "cell_type": "code",
   "execution_count": 4,
   "metadata": {},
   "outputs": [],
   "source": [
    "''' RUTAS '''\n",
    "ruta_topografia = os.path.join(folder_ciclo, \"DEM_04.02.2023_10x10m.asc\")\n",
    "ruta_mascara_tranque = p.RUTA_MASK_TRANQUE\n",
    "ruta_sector_5 = os.path.join(folder_ciclo, \"poligono_sector_5.csv\")\n",
    "ruta_interior = os.path.join(folder_ciclo, \"zona_interior_sector_5.csv\")\n",
    "ruta_extension_sector_5 = os.path.join(folder_ciclo, \"extension_sector_5.csv\")"
   ]
  },
  {
   "cell_type": "code",
   "execution_count": 5,
   "metadata": {},
   "outputs": [],
   "source": [
    "''' MALLADO '''\n",
    "res_region = 1024\n",
    "res_interior = res_region / 2"
   ]
  },
  {
   "cell_type": "markdown",
   "metadata": {},
   "source": [
    "# Construcción input"
   ]
  },
  {
   "cell_type": "code",
   "execution_count": 6,
   "metadata": {},
   "outputs": [],
   "source": [
    "df_input = df_descargas[df_descargas.sector == 5]\n",
    "df_input = df_input[df_input.fecha == df_input.fecha.min()]"
   ]
  },
  {
   "cell_type": "code",
   "execution_count": 7,
   "metadata": {},
   "outputs": [],
   "source": [
    "# resoluciones_region = [2**x for x in range(7, 11)]"
   ]
  },
  {
   "cell_type": "markdown",
   "metadata": {},
   "source": [
    "# Ejecución simulación"
   ]
  },
  {
   "cell_type": "code",
   "execution_count": 8,
   "metadata": {},
   "outputs": [
    {
     "name": "stdout",
     "output_type": "stream",
     "text": [
      "Figure files for each frame will be stored in figuras\n"
     ]
    }
   ],
   "source": [
    "from simulador import AnugaSW\n",
    "\n",
    "simulador = AnugaSW(ruta_topografia,\n",
    "                    ruta_mascara_tranque,\n",
    "                    ruta_sector_5, ruta_interior,\n",
    "                    ruta_extension_sector_5,\n",
    "                    res_region=res_region,\n",
    "                    res_interior=res_interior)\n"
   ]
  },
  {
   "cell_type": "code",
   "execution_count": 9,
   "metadata": {},
   "outputs": [
    {
     "data": {
      "text/html": [
       "<div>\n",
       "<style scoped>\n",
       "    .dataframe tbody tr th:only-of-type {\n",
       "        vertical-align: middle;\n",
       "    }\n",
       "\n",
       "    .dataframe tbody tr th {\n",
       "        vertical-align: top;\n",
       "    }\n",
       "\n",
       "    .dataframe thead th {\n",
       "        text-align: right;\n",
       "    }\n",
       "</style>\n",
       "<table border=\"1\" class=\"dataframe\">\n",
       "  <thead>\n",
       "    <tr style=\"text-align: right;\">\n",
       "      <th></th>\n",
       "      <th>fecha</th>\n",
       "      <th>sector</th>\n",
       "      <th>id_punto</th>\n",
       "      <th>coordenada_x</th>\n",
       "      <th>coordenada_y</th>\n",
       "      <th>angulo_polar</th>\n",
       "      <th>tms</th>\n",
       "      <th>tasa_diaria</th>\n",
       "      <th>radio_canaleta</th>\n",
       "    </tr>\n",
       "  </thead>\n",
       "  <tbody>\n",
       "    <tr>\n",
       "      <th>153</th>\n",
       "      <td>2023-03-02</td>\n",
       "      <td>5</td>\n",
       "      <td>29</td>\n",
       "      <td>489215.492474</td>\n",
       "      <td>7.297292e+06</td>\n",
       "      <td>2.425051</td>\n",
       "      <td>22137.258627</td>\n",
       "      <td>0.961598</td>\n",
       "      <td>1.6345</td>\n",
       "    </tr>\n",
       "    <tr>\n",
       "      <th>154</th>\n",
       "      <td>2023-03-02</td>\n",
       "      <td>5</td>\n",
       "      <td>32</td>\n",
       "      <td>489082.721325</td>\n",
       "      <td>7.296706e+06</td>\n",
       "      <td>2.536601</td>\n",
       "      <td>22137.258627</td>\n",
       "      <td>0.961598</td>\n",
       "      <td>1.4370</td>\n",
       "    </tr>\n",
       "    <tr>\n",
       "      <th>155</th>\n",
       "      <td>2023-03-02</td>\n",
       "      <td>5</td>\n",
       "      <td>33</td>\n",
       "      <td>488926.557163</td>\n",
       "      <td>7.296312e+06</td>\n",
       "      <td>2.907850</td>\n",
       "      <td>22137.258627</td>\n",
       "      <td>0.961598</td>\n",
       "      <td>1.6430</td>\n",
       "    </tr>\n",
       "    <tr>\n",
       "      <th>156</th>\n",
       "      <td>2023-03-02</td>\n",
       "      <td>5</td>\n",
       "      <td>37</td>\n",
       "      <td>488770.083732</td>\n",
       "      <td>7.295805e+06</td>\n",
       "      <td>2.377836</td>\n",
       "      <td>44274.517254</td>\n",
       "      <td>1.923196</td>\n",
       "      <td>1.3145</td>\n",
       "    </tr>\n",
       "  </tbody>\n",
       "</table>\n",
       "</div>"
      ],
      "text/plain": [
       "         fecha  sector  id_punto   coordenada_x  coordenada_y  angulo_polar  \\\n",
       "153 2023-03-02       5        29  489215.492474  7.297292e+06      2.425051   \n",
       "154 2023-03-02       5        32  489082.721325  7.296706e+06      2.536601   \n",
       "155 2023-03-02       5        33  488926.557163  7.296312e+06      2.907850   \n",
       "156 2023-03-02       5        37  488770.083732  7.295805e+06      2.377836   \n",
       "\n",
       "              tms  tasa_diaria  radio_canaleta  \n",
       "153  22137.258627     0.961598          1.6345  \n",
       "154  22137.258627     0.961598          1.4370  \n",
       "155  22137.258627     0.961598          1.6430  \n",
       "156  44274.517254     1.923196          1.3145  "
      ]
     },
     "execution_count": 9,
     "metadata": {},
     "output_type": "execute_result"
    }
   ],
   "source": [
    "df_input"
   ]
  },
  {
   "cell_type": "code",
   "execution_count": 10,
   "metadata": {},
   "outputs": [
    {
     "name": "stdout",
     "output_type": "stream",
     "text": [
      "Time = 0.0000 (sec), steps=0 (2s)\n",
      "Distancias a los bordes: {0: inf, 1: inf}\n",
      "\n"
     ]
    },
    {
     "name": "stderr",
     "output_type": "stream",
     "text": [
      "/home/jorge-ovalle/anuga_core/anuga_jorge/estado.py:101: FutureWarning: The behavior of DataFrame concatenation with empty or all-NA entries is deprecated. In a future version, this will no longer exclude empty or all-NA columns when determining the result dtypes. To retain the old behavior, exclude the relevant entries before the concat operation.\n",
      "  self._df_estado = pd.concat([self._df_estado, df_aux], ignore_index=True)\n"
     ]
    },
    {
     "name": "stdout",
     "output_type": "stream",
     "text": [
      "Time = 400.0000 (sec), delta t = 1000.00000000 (s), steps=1 (0s)\n",
      "Distancias a los bordes: {0: 479.092154173782, 1: 852.4007012872297}\n",
      "\n",
      "Time = 800.0000 (sec), delta t in [0.78586877, 3.18307476] (s), steps=159 (1s)\n",
      "Distancias a los bordes: {0: 386.93293070602186, 1: 593.0015313710309}\n",
      "\n",
      "Time = 1200.0000 (sec), delta t in [2.69680622, 3.13931418] (s), steps=145 (1s)\n",
      "Distancias a los bordes: {0: 377.32401928025456, 1: 418.3797022133377}\n",
      "\n",
      "Time = 1600.0000 (sec), delta t in [2.78775210, 2.82488639] (s), steps=143 (1s)\n",
      "Distancias a los bordes: {0: 377.32401928025456, 1: 300.05689194916465}\n",
      "\n",
      "Time = 2000.0000 (sec), delta t in [2.82490081, 2.82885167] (s), steps=142 (1s)\n",
      "Distancias a los bordes: {0: 377.32401928025456, 1: 245.28411967664024}\n",
      "\n",
      "Time = 2400.0000 (sec), delta t in [2.82885330, 2.82904220] (s), steps=142 (1s)\n",
      "Distancias a los bordes: {0: 377.32401928025456, 1: 215.8905631259412}\n",
      "\n",
      "Time = 2800.0000 (sec), delta t in [2.82900512, 2.82905956] (s), steps=142 (1s)\n",
      "Distancias a los bordes: {0: 377.32401928025456, 1: 212.64880355399674}\n",
      "\n",
      "Time = 3200.0000 (sec), delta t in [2.82901153, 2.82919775] (s), steps=142 (1s)\n",
      "Distancias a los bordes: {0: 377.32401928025456, 1: 212.64880355399674}\n",
      "\n",
      "Time = 3600.0000 (sec), delta t in [2.72192692, 2.82924988] (s), steps=144 (1s)\n",
      "Distancias a los bordes: {0: 393.34540852029386, 1: 212.64880355399674}\n",
      "\n",
      "Time = 4000.0000 (sec), delta t in [2.64985197, 2.72177660] (s), steps=150 (1s)\n",
      "Distancias a los bordes: {0: 393.34540852029386, 1: 212.64880355399674}\n",
      "\n",
      "Time = 4400.0000 (sec), delta t in [2.62236835, 2.64979989] (s), steps=152 (1s)\n",
      "Distancias a los bordes: {0: 393.34540852029386, 1: 158.3196664493792}\n",
      "\n",
      "Time = 4800.0000 (sec), delta t in [2.58478085, 2.62227798] (s), steps=154 (1s)\n",
      "Distancias a los bordes: {0: 393.34540852029386, 1: 120.5121634173589}\n",
      "\n",
      "Time = 5200.0000 (sec), delta t in [2.46707387, 2.58462339] (s), steps=158 (1s)\n",
      "Distancias a los bordes: {0: 393.34540852029386, 1: 48.63041937923142}\n",
      "\n",
      "Figure files for each frame will be stored in figuras\n"
     ]
    },
    {
     "ename": "AssertionError",
     "evalue": "Number of values must match number of elements",
     "output_type": "error",
     "traceback": [
      "\u001b[0;31m---------------------------------------------------------------------------\u001b[0m",
      "\u001b[0;31mAssertionError\u001b[0m                            Traceback (most recent call last)",
      "Cell \u001b[0;32mIn[10], line 1\u001b[0m\n\u001b[0;32m----> 1\u001b[0m \u001b[43msimulador\u001b[49m\u001b[38;5;241;43m.\u001b[39;49m\u001b[43mejecutar\u001b[49m\u001b[43m(\u001b[49m\u001b[43mdf_input\u001b[49m\u001b[43m)\u001b[49m\n",
      "File \u001b[0;32m~/anuga_core/anuga_jorge/simulador.py:240\u001b[0m, in \u001b[0;36mAnugaSW.ejecutar\u001b[0;34m(self, info_puntos, yieldstep, tiempo_extra, skip_inital_step)\u001b[0m\n\u001b[1;32m    238\u001b[0m \u001b[38;5;66;03m# Extendemos la región si es necesario\u001b[39;00m\n\u001b[1;32m    239\u001b[0m \u001b[38;5;28;01mif\u001b[39;00m \u001b[38;5;28mlen\u001b[39m(bordes_a_extender) \u001b[38;5;241m>\u001b[39m \u001b[38;5;241m0\u001b[39m:\n\u001b[0;32m--> 240\u001b[0m     status \u001b[38;5;241m=\u001b[39m \u001b[38;5;28;43mself\u001b[39;49m\u001b[38;5;241;43m.\u001b[39;49m\u001b[43mextender_region\u001b[49m\u001b[43m(\u001b[49m\u001b[43mbordes_a_extender\u001b[49m\u001b[43m)\u001b[49m\n\u001b[1;32m    242\u001b[0m     \u001b[38;5;28;01mif\u001b[39;00m status \u001b[38;5;241m==\u001b[39m \u001b[38;5;241m1\u001b[39m:\n\u001b[1;32m    243\u001b[0m         \u001b[38;5;66;03m# Ejecutamos recursivamente despues de extender region\u001b[39;00m\n\u001b[1;32m    244\u001b[0m         \u001b[38;5;28mself\u001b[39m\u001b[38;5;241m.\u001b[39mejecutar(info_puntos,\n\u001b[1;32m    245\u001b[0m                       yieldstep\u001b[38;5;241m=\u001b[39myieldstep,\n\u001b[1;32m    246\u001b[0m                       tiempo_extra\u001b[38;5;241m=\u001b[39mtiempo_extra,\n\u001b[1;32m    247\u001b[0m                       skip_inital_step\u001b[38;5;241m=\u001b[39m\u001b[38;5;28;01mTrue\u001b[39;00m)\n",
      "File \u001b[0;32m~/anuga_core/anuga_jorge/simulador.py:312\u001b[0m, in \u001b[0;36mAnugaSW.extender_region\u001b[0;34m(self, bordes_a_extender)\u001b[0m\n\u001b[1;32m    309\u001b[0m \u001b[38;5;28mself\u001b[39m\u001b[38;5;241m.\u001b[39meliminar_dominio()\n\u001b[1;32m    311\u001b[0m \u001b[38;5;66;03m# Creamos nuevo dominio\u001b[39;00m\n\u001b[0;32m--> 312\u001b[0m \u001b[38;5;28;43mself\u001b[39;49m\u001b[38;5;241;43m.\u001b[39;49m\u001b[43mcrear_dominio\u001b[49m\u001b[43m(\u001b[49m\u001b[43mstage\u001b[49m\u001b[38;5;241;43m=\u001b[39;49m\u001b[43mstage\u001b[49m\u001b[43m,\u001b[49m\u001b[43m \u001b[49m\u001b[43mxmomentum\u001b[49m\u001b[38;5;241;43m=\u001b[39;49m\u001b[43mxmomentum\u001b[49m\u001b[43m,\u001b[49m\u001b[43m \u001b[49m\u001b[43mymomentum\u001b[49m\u001b[38;5;241;43m=\u001b[39;49m\u001b[43mymomentum\u001b[49m\u001b[43m)\u001b[49m\n\u001b[1;32m    314\u001b[0m \u001b[38;5;66;03m# Actualizamos el estado\u001b[39;00m\n\u001b[1;32m    315\u001b[0m \u001b[38;5;28mself\u001b[39m\u001b[38;5;241m.\u001b[39mestado\u001b[38;5;241m.\u001b[39mresetear_dominio(\u001b[38;5;28mself\u001b[39m\u001b[38;5;241m.\u001b[39mdomain, \u001b[38;5;28mself\u001b[39m\u001b[38;5;241m.\u001b[39mregion, \u001b[38;5;28mself\u001b[39m\u001b[38;5;241m.\u001b[39mbordes_a_traquear)\n",
      "File \u001b[0;32m~/anuga_core/anuga_jorge/simulador.py:132\u001b[0m, in \u001b[0;36mAnugaSW.crear_dominio\u001b[0;34m(self, stage, xmomentum, ymomentum, nombre_archivo_salida, carpeta_figuras)\u001b[0m\n\u001b[1;32m    130\u001b[0m     \u001b[38;5;28mself\u001b[39m\u001b[38;5;241m.\u001b[39mdomain\u001b[38;5;241m.\u001b[39mset_quantity(\u001b[38;5;124m'\u001b[39m\u001b[38;5;124mstage\u001b[39m\u001b[38;5;124m'\u001b[39m, expression\u001b[38;5;241m=\u001b[39m\u001b[38;5;124m'\u001b[39m\u001b[38;5;124melevation\u001b[39m\u001b[38;5;124m'\u001b[39m, location\u001b[38;5;241m=\u001b[39m\u001b[38;5;124m'\u001b[39m\u001b[38;5;124mcentroids\u001b[39m\u001b[38;5;124m'\u001b[39m)\n\u001b[1;32m    131\u001b[0m \u001b[38;5;28;01melse\u001b[39;00m:\n\u001b[0;32m--> 132\u001b[0m     \u001b[38;5;28;43mself\u001b[39;49m\u001b[38;5;241;43m.\u001b[39;49m\u001b[43mdomain\u001b[49m\u001b[38;5;241;43m.\u001b[39;49m\u001b[43mset_quantity\u001b[49m\u001b[43m(\u001b[49m\u001b[38;5;124;43m'\u001b[39;49m\u001b[38;5;124;43mstage\u001b[39;49m\u001b[38;5;124;43m'\u001b[39;49m\u001b[43m,\u001b[49m\u001b[43m \u001b[49m\u001b[43mnumeric\u001b[49m\u001b[38;5;241;43m=\u001b[39;49m\u001b[43mstage\u001b[49m\u001b[43m,\u001b[49m\u001b[43m \u001b[49m\u001b[43mlocation\u001b[49m\u001b[38;5;241;43m=\u001b[39;49m\u001b[38;5;124;43m'\u001b[39;49m\u001b[38;5;124;43mcentroids\u001b[39;49m\u001b[38;5;124;43m'\u001b[39;49m\u001b[43m)\u001b[49m\n\u001b[1;32m    134\u001b[0m \u001b[38;5;28;01mif\u001b[39;00m xmomentum \u001b[38;5;129;01mis\u001b[39;00m \u001b[38;5;129;01mnot\u001b[39;00m \u001b[38;5;28;01mNone\u001b[39;00m:\n\u001b[1;32m    135\u001b[0m     \u001b[38;5;28mself\u001b[39m\u001b[38;5;241m.\u001b[39mdomain\u001b[38;5;241m.\u001b[39mset_quantity(\u001b[38;5;124m'\u001b[39m\u001b[38;5;124mxmomentum\u001b[39m\u001b[38;5;124m'\u001b[39m, numeric\u001b[38;5;241m=\u001b[39mxmomentum, location\u001b[38;5;241m=\u001b[39m\u001b[38;5;124m'\u001b[39m\u001b[38;5;124mcentroids\u001b[39m\u001b[38;5;124m'\u001b[39m)\n",
      "File \u001b[0;32m~/anuga_core/anuga/shallow_water/shallow_water_domain.py:1087\u001b[0m, in \u001b[0;36mDomain.set_quantity\u001b[0;34m(self, name, *args, **kwargs)\u001b[0m\n\u001b[1;32m   1072\u001b[0m \u001b[38;5;250m        \u001b[39m\u001b[38;5;124;03m\"\"\"Set values for named quantity\u001b[39;00m\n\u001b[1;32m   1073\u001b[0m \n\u001b[1;32m   1074\u001b[0m \u001b[38;5;124;03m        We have to do something special for 'elevation'\u001b[39;00m\n\u001b[1;32m   1075\u001b[0m \u001b[38;5;124;03m        otherwise pass through to generic set_quantity\u001b[39;00m\n\u001b[1;32m   1076\u001b[0m \u001b[38;5;124;03m        \"\"\"\u001b[39;00m\n\u001b[1;32m   1078\u001b[0m \u001b[38;5;66;03m#        if name == 'elevation':\u001b[39;00m\n\u001b[1;32m   1079\u001b[0m \u001b[38;5;66;03m#            stage_c = self.get_quantity('stage').centroid_values\u001b[39;00m\n\u001b[1;32m   1080\u001b[0m \u001b[38;5;66;03m#            elev_c =  self.get_quantity('elevation').centroid_values\u001b[39;00m\n\u001b[0;32m   (...)\u001b[0m\n\u001b[1;32m   1084\u001b[0m \u001b[38;5;66;03m#        else:\u001b[39;00m\n\u001b[1;32m   1085\u001b[0m \u001b[38;5;66;03m#            Generic_Domain.set_quantity(self, name, *args, **kwargs)\u001b[39;00m\n\u001b[0;32m-> 1087\u001b[0m         \u001b[43mGeneric_Domain\u001b[49m\u001b[38;5;241;43m.\u001b[39;49m\u001b[43mset_quantity\u001b[49m\u001b[43m(\u001b[49m\u001b[38;5;28;43mself\u001b[39;49m\u001b[43m,\u001b[49m\u001b[43m \u001b[49m\u001b[43mname\u001b[49m\u001b[43m,\u001b[49m\u001b[43m \u001b[49m\u001b[38;5;241;43m*\u001b[39;49m\u001b[43margs\u001b[49m\u001b[43m,\u001b[49m\u001b[43m \u001b[49m\u001b[38;5;241;43m*\u001b[39;49m\u001b[38;5;241;43m*\u001b[39;49m\u001b[43mkwargs\u001b[49m\u001b[43m)\u001b[49m\n",
      "File \u001b[0;32m~/anuga_core/anuga/abstract_2d_finite_volumes/generic_domain.py:743\u001b[0m, in \u001b[0;36mGeneric_Domain.set_quantity\u001b[0;34m(self, name, *args, **kwargs)\u001b[0m\n\u001b[1;32m    740\u001b[0m     kwargs[\u001b[38;5;124m'\u001b[39m\u001b[38;5;124mquantity\u001b[39m\u001b[38;5;124m'\u001b[39m] \u001b[38;5;241m=\u001b[39m Q\n\u001b[1;32m    742\u001b[0m \u001b[38;5;66;03m# Assign values\u001b[39;00m\n\u001b[0;32m--> 743\u001b[0m \u001b[38;5;28;43mself\u001b[39;49m\u001b[38;5;241;43m.\u001b[39;49m\u001b[43mquantities\u001b[49m\u001b[43m[\u001b[49m\u001b[43mname\u001b[49m\u001b[43m]\u001b[49m\u001b[38;5;241;43m.\u001b[39;49m\u001b[43mset_values\u001b[49m\u001b[43m(\u001b[49m\u001b[38;5;241;43m*\u001b[39;49m\u001b[43margs\u001b[49m\u001b[43m,\u001b[49m\u001b[43m \u001b[49m\u001b[38;5;241;43m*\u001b[39;49m\u001b[38;5;241;43m*\u001b[39;49m\u001b[43mkwargs\u001b[49m\u001b[43m)\u001b[49m\n",
      "File \u001b[0;32m~/anuga_core/anuga/abstract_2d_finite_volumes/quantity.py:882\u001b[0m, in \u001b[0;36mQuantity.set_values\u001b[0;34m(self, numeric, quantity, function, geospatial_data, filename, raster, attribute_name, alpha, location, polygon, indices, smooth, verbose, use_cache)\u001b[0m\n\u001b[1;32m    880\u001b[0m \u001b[38;5;28;01mif\u001b[39;00m numeric \u001b[38;5;129;01mis\u001b[39;00m \u001b[38;5;129;01mnot\u001b[39;00m \u001b[38;5;28;01mNone\u001b[39;00m:\n\u001b[1;32m    881\u001b[0m     \u001b[38;5;28;01mif\u001b[39;00m \u001b[38;5;28misinstance\u001b[39m(numeric, (\u001b[38;5;28mlist\u001b[39m, num\u001b[38;5;241m.\u001b[39mndarray)):\n\u001b[0;32m--> 882\u001b[0m         \u001b[38;5;28;43mself\u001b[39;49m\u001b[38;5;241;43m.\u001b[39;49m\u001b[43mset_values_from_array\u001b[49m\u001b[43m(\u001b[49m\u001b[43mnumeric\u001b[49m\u001b[43m,\u001b[49m\u001b[43m \u001b[49m\u001b[43mlocation\u001b[49m\u001b[43m,\u001b[49m\u001b[43m \u001b[49m\u001b[43mindices\u001b[49m\u001b[43m,\u001b[49m\n\u001b[1;32m    883\u001b[0m \u001b[43m                                   \u001b[49m\u001b[43muse_cache\u001b[49m\u001b[38;5;241;43m=\u001b[39;49m\u001b[43muse_cache\u001b[49m\u001b[43m,\u001b[49m\u001b[43m \u001b[49m\u001b[43mverbose\u001b[49m\u001b[38;5;241;43m=\u001b[39;49m\u001b[43mverbose\u001b[49m\u001b[43m)\u001b[49m\n\u001b[1;32m    884\u001b[0m     \u001b[38;5;28;01melif\u001b[39;00m \u001b[38;5;28mcallable\u001b[39m(numeric):\n\u001b[1;32m    885\u001b[0m         \u001b[38;5;28mself\u001b[39m\u001b[38;5;241m.\u001b[39mset_values_from_function(numeric, location, indices,\n\u001b[1;32m    886\u001b[0m                                       use_cache\u001b[38;5;241m=\u001b[39muse_cache,\n\u001b[1;32m    887\u001b[0m                                       verbose\u001b[38;5;241m=\u001b[39mverbose)\n",
      "File \u001b[0;32m~/anuga_core/anuga/abstract_2d_finite_volumes/quantity.py:1047\u001b[0m, in \u001b[0;36mQuantity.set_values_from_array\u001b[0;34m(self, values, location, indices, use_cache, verbose)\u001b[0m\n\u001b[1;32m   1045\u001b[0m \u001b[38;5;28;01mif\u001b[39;00m indices \u001b[38;5;129;01mis\u001b[39;00m \u001b[38;5;28;01mNone\u001b[39;00m:\n\u001b[1;32m   1046\u001b[0m     msg \u001b[38;5;241m=\u001b[39m \u001b[38;5;124m'\u001b[39m\u001b[38;5;124mNumber of values must match number of elements\u001b[39m\u001b[38;5;124m'\u001b[39m\n\u001b[0;32m-> 1047\u001b[0m     \u001b[38;5;28;01massert\u001b[39;00m values\u001b[38;5;241m.\u001b[39mshape[\u001b[38;5;241m0\u001b[39m] \u001b[38;5;241m==\u001b[39m N, msg\n\u001b[1;32m   1049\u001b[0m     \u001b[38;5;28mself\u001b[39m\u001b[38;5;241m.\u001b[39mcentroid_values[:] \u001b[38;5;241m=\u001b[39m values\n\u001b[1;32m   1050\u001b[0m \u001b[38;5;28;01melse\u001b[39;00m:\n",
      "\u001b[0;31mAssertionError\u001b[0m: Number of values must match number of elements"
     ]
    }
   ],
   "source": [
    "simulador.ejecutar(df_input)"
   ]
  },
  {
   "cell_type": "code",
   "execution_count": 32,
   "metadata": {},
   "outputs": [],
   "source": [
    "columns = ['tiempo_sim', 'tiempo_inicio_paso', 'elapsed']\n",
    "df = pd.DataFrame(columns=['tiempo_sim', 'tiempo_inicio_paso',\n",
    "                                                'elapsed'])\n",
    "\n",
    "df1 = pd.concat([df, pd.DataFrame(data = [[0,0,1]], columns=columns)], axis=0)"
   ]
  },
  {
   "cell_type": "code",
   "execution_count": 25,
   "metadata": {},
   "outputs": [],
   "source": [
    "arr = simulador.domain.quantities['elevation'].save_to_array(cellsize=10,\n",
    "                                                   easting_min=simulador.topografia.dem.columns.min(),\n",
    "                                                   northing_min=simulador.topografia.dem.index.min(),\n",
    "                                                   easting_max=simulador.topografia.dem.columns.max(),\n",
    "                                                   northing_max=simulador.topografia.dem.index.max())"
   ]
  },
  {
   "cell_type": "code",
   "execution_count": 26,
   "metadata": {},
   "outputs": [],
   "source": [
    "elevation = arr[2]"
   ]
  },
  {
   "cell_type": "code",
   "execution_count": 45,
   "metadata": {},
   "outputs": [
    {
     "data": {
      "text/plain": [
       "(1114, 1014)"
      ]
     },
     "execution_count": 45,
     "metadata": {},
     "output_type": "execute_result"
    }
   ],
   "source": [
    "elevation.sh"
   ]
  },
  {
   "cell_type": "code",
   "execution_count": 55,
   "metadata": {},
   "outputs": [],
   "source": [
    "centroids = simulador.domain.get_centroid_coordinates(absolute=True)"
   ]
  },
  {
   "cell_type": "code",
   "execution_count": 64,
   "metadata": {},
   "outputs": [],
   "source": [
    "stage = simulador.domain.quantities['stage'].get_values(interpolation_points=[[485910.685765766, 7297109.44755781]])\n"
   ]
  },
  {
   "cell_type": "code",
   "execution_count": 59,
   "metadata": {},
   "outputs": [
    {
     "data": {
      "text/plain": [
       "True"
      ]
     },
     "execution_count": 59,
     "metadata": {},
     "output_type": "execute_result"
    }
   ],
   "source": [
    "np.all(stage == simulador.domain.quantities['stage'].centroid_values)"
   ]
  },
  {
   "cell_type": "code",
   "execution_count": 60,
   "metadata": {},
   "outputs": [],
   "source": [
    "df_extension = simulador.extension_region"
   ]
  },
  {
   "cell_type": "code",
   "execution_count": 65,
   "metadata": {},
   "outputs": [
    {
     "data": {
      "text/plain": [
       "array([0.])"
      ]
     },
     "execution_count": 65,
     "metadata": {},
     "output_type": "execute_result"
    }
   ],
   "source": [
    "stage"
   ]
  }
 ],
 "metadata": {
  "kernelspec": {
   "display_name": "anuga_env",
   "language": "python",
   "name": "python3"
  },
  "language_info": {
   "codemirror_mode": {
    "name": "ipython",
    "version": 3
   },
   "file_extension": ".py",
   "mimetype": "text/x-python",
   "name": "python",
   "nbconvert_exporter": "python",
   "pygments_lexer": "ipython3",
   "version": "3.10.12"
  }
 },
 "nbformat": 4,
 "nbformat_minor": 2
}
