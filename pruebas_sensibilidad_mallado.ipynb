{
 "cells": [
  {
   "cell_type": "code",
   "execution_count": 1,
   "metadata": {},
   "outputs": [
    {
     "name": "stderr",
     "output_type": "stream",
     "text": [
      "/tmp/ipykernel_45864/3561010909.py:3: DeprecationWarning: \n",
      "Pyarrow will become a required dependency of pandas in the next major release of pandas (pandas 3.0),\n",
      "(to allow more performant data types, such as the Arrow string type, and better interoperability with other libraries)\n",
      "but was not found to be installed on your system.\n",
      "If this would cause problems for you,\n",
      "please provide us feedback at https://github.com/pandas-dev/pandas/issues/54466\n",
      "        \n",
      "  import pandas as pd\n"
     ]
    }
   ],
   "source": [
    "import numpy as np\n",
    "import matplotlib.pyplot as plt\n",
    "import pandas as pd\n",
    "import os\n",
    "import parameters as p\n",
    "%matplotlib inline\n",
    "\n",
    "# Allow inline jshtml animations\n",
    "from matplotlib import rc\n",
    "rc('animation', html='jshtml')"
   ]
  },
  {
   "cell_type": "markdown",
   "metadata": {},
   "source": [
    "# Cargado de datos"
   ]
  },
  {
   "cell_type": "code",
   "execution_count": 2,
   "metadata": {},
   "outputs": [],
   "source": [
    "''' PARÁMETROS '''\n",
    "\n",
    "INPUT_FOLDER = os.path.abspath(\"input\")\n",
    "CICLO = 9\n",
    "SECTORES = [5, 6]\n",
    "\n",
    "folder_ciclo = os.path.join(INPUT_FOLDER, f\"ciclo_{CICLO}\")"
   ]
  },
  {
   "cell_type": "code",
   "execution_count": 3,
   "metadata": {},
   "outputs": [],
   "source": [
    "''' DESCARGAS '''\n",
    "suffix_input = '_'.join([str(s) for s in SECTORES])\n",
    "df_descargas = pd.read_csv(os.path.join(folder_ciclo, \"input_sectores_{}.csv\".format(suffix_input)), parse_dates=['fecha'])"
   ]
  },
  {
   "cell_type": "code",
   "execution_count": 4,
   "metadata": {},
   "outputs": [],
   "source": [
    "''' RUTAS '''\n",
    "ruta_topografia = os.path.join(folder_ciclo, \"DEM_04.02.2023_10x10m.asc\")\n",
    "ruta_mascara_tranque = p.RUTA_MASK_TRANQUE\n",
    "ruta_sector_5 = os.path.join(folder_ciclo, \"poligono_sector_5.csv\")\n",
    "ruta_interior = os.path.join(folder_ciclo, \"zona_interior_sector_5.csv\")\n",
    "ruta_extension_sector_5 = os.path.join(folder_ciclo, \"extension_sector_5.csv\")"
   ]
  },
  {
   "cell_type": "code",
   "execution_count": 5,
   "metadata": {},
   "outputs": [],
   "source": [
    "''' MALLADO '''\n",
    "res_region = 1024\n",
    "res_interior = res_region / 2"
   ]
  },
  {
   "cell_type": "markdown",
   "metadata": {},
   "source": [
    "# Construcción input"
   ]
  },
  {
   "cell_type": "code",
   "execution_count": 6,
   "metadata": {},
   "outputs": [],
   "source": [
    "df_input = df_descargas[df_descargas.sector == 5]\n",
    "df_input = df_input[df_input.fecha == df_input.fecha.min()]"
   ]
  },
  {
   "cell_type": "code",
   "execution_count": 7,
   "metadata": {},
   "outputs": [],
   "source": [
    "# resoluciones_region = [2**x for x in range(7, 11)]"
   ]
  },
  {
   "cell_type": "markdown",
   "metadata": {},
   "source": [
    "# Ejecución simulación"
   ]
  },
  {
   "cell_type": "code",
   "execution_count": 8,
   "metadata": {},
   "outputs": [
    {
     "name": "stdout",
     "output_type": "stream",
     "text": [
      "Figure files for each frame will be stored in figuras\n"
     ]
    }
   ],
   "source": [
    "from simulador import AnugaSW\n",
    "\n",
    "simulador = AnugaSW(ruta_topografia,\n",
    "                    ruta_mascara_tranque,\n",
    "                    ruta_sector_5, ruta_interior,\n",
    "                    ruta_extension_sector_5,\n",
    "                    res_region=res_region,\n",
    "                    res_interior=res_interior)\n"
   ]
  },
  {
   "cell_type": "code",
   "execution_count": 9,
   "metadata": {},
   "outputs": [
    {
     "data": {
      "text/html": [
       "<div>\n",
       "<style scoped>\n",
       "    .dataframe tbody tr th:only-of-type {\n",
       "        vertical-align: middle;\n",
       "    }\n",
       "\n",
       "    .dataframe tbody tr th {\n",
       "        vertical-align: top;\n",
       "    }\n",
       "\n",
       "    .dataframe thead th {\n",
       "        text-align: right;\n",
       "    }\n",
       "</style>\n",
       "<table border=\"1\" class=\"dataframe\">\n",
       "  <thead>\n",
       "    <tr style=\"text-align: right;\">\n",
       "      <th></th>\n",
       "      <th>fecha</th>\n",
       "      <th>sector</th>\n",
       "      <th>id_punto</th>\n",
       "      <th>coordenada_x</th>\n",
       "      <th>coordenada_y</th>\n",
       "      <th>angulo_polar</th>\n",
       "      <th>tms</th>\n",
       "      <th>tasa_diaria</th>\n",
       "      <th>radio_canaleta</th>\n",
       "    </tr>\n",
       "  </thead>\n",
       "  <tbody>\n",
       "    <tr>\n",
       "      <th>153</th>\n",
       "      <td>2023-03-02</td>\n",
       "      <td>5</td>\n",
       "      <td>29</td>\n",
       "      <td>489215.492474</td>\n",
       "      <td>7.297292e+06</td>\n",
       "      <td>2.425051</td>\n",
       "      <td>22137.258627</td>\n",
       "      <td>0.961598</td>\n",
       "      <td>1.6345</td>\n",
       "    </tr>\n",
       "    <tr>\n",
       "      <th>154</th>\n",
       "      <td>2023-03-02</td>\n",
       "      <td>5</td>\n",
       "      <td>32</td>\n",
       "      <td>489082.721325</td>\n",
       "      <td>7.296706e+06</td>\n",
       "      <td>2.536601</td>\n",
       "      <td>22137.258627</td>\n",
       "      <td>0.961598</td>\n",
       "      <td>1.4370</td>\n",
       "    </tr>\n",
       "    <tr>\n",
       "      <th>155</th>\n",
       "      <td>2023-03-02</td>\n",
       "      <td>5</td>\n",
       "      <td>33</td>\n",
       "      <td>488926.557163</td>\n",
       "      <td>7.296312e+06</td>\n",
       "      <td>2.907850</td>\n",
       "      <td>22137.258627</td>\n",
       "      <td>0.961598</td>\n",
       "      <td>1.6430</td>\n",
       "    </tr>\n",
       "    <tr>\n",
       "      <th>156</th>\n",
       "      <td>2023-03-02</td>\n",
       "      <td>5</td>\n",
       "      <td>37</td>\n",
       "      <td>488770.083732</td>\n",
       "      <td>7.295805e+06</td>\n",
       "      <td>2.377836</td>\n",
       "      <td>44274.517254</td>\n",
       "      <td>1.923196</td>\n",
       "      <td>1.3145</td>\n",
       "    </tr>\n",
       "  </tbody>\n",
       "</table>\n",
       "</div>"
      ],
      "text/plain": [
       "         fecha  sector  id_punto   coordenada_x  coordenada_y  angulo_polar  \\\n",
       "153 2023-03-02       5        29  489215.492474  7.297292e+06      2.425051   \n",
       "154 2023-03-02       5        32  489082.721325  7.296706e+06      2.536601   \n",
       "155 2023-03-02       5        33  488926.557163  7.296312e+06      2.907850   \n",
       "156 2023-03-02       5        37  488770.083732  7.295805e+06      2.377836   \n",
       "\n",
       "              tms  tasa_diaria  radio_canaleta  \n",
       "153  22137.258627     0.961598          1.6345  \n",
       "154  22137.258627     0.961598          1.4370  \n",
       "155  22137.258627     0.961598          1.6430  \n",
       "156  44274.517254     1.923196          1.3145  "
      ]
     },
     "execution_count": 9,
     "metadata": {},
     "output_type": "execute_result"
    }
   ],
   "source": [
    "df_input"
   ]
  },
  {
   "cell_type": "code",
   "execution_count": 10,
   "metadata": {},
   "outputs": [
    {
     "name": "stdout",
     "output_type": "stream",
     "text": [
      "Time = 0.0000 (sec), steps=0 (2s)\n",
      "Distancias a los bordes: {0: inf, 1: inf}\n",
      "\n"
     ]
    },
    {
     "name": "stderr",
     "output_type": "stream",
     "text": [
      "/home/jorge-ovalle/anuga_core/anuga_jorge/estado.py:101: FutureWarning: The behavior of DataFrame concatenation with empty or all-NA entries is deprecated. In a future version, this will no longer exclude empty or all-NA columns when determining the result dtypes. To retain the old behavior, exclude the relevant entries before the concat operation.\n",
      "  self._df_estado = pd.concat([self._df_estado, df_aux], ignore_index=True)\n"
     ]
    },
    {
     "name": "stdout",
     "output_type": "stream",
     "text": [
      "Time = 400.0000 (sec), delta t = 1000.00000000 (s), steps=1 (0s)\n",
      "Distancias a los bordes: {0: 479.092154173782, 1: 852.4007012872297}\n",
      "\n",
      "Time = 800.0000 (sec), delta t in [0.78586877, 3.18307476] (s), steps=159 (1s)\n",
      "Distancias a los bordes: {0: 386.93293070602186, 1: 593.0015313710309}\n",
      "\n",
      "Time = 1200.0000 (sec), delta t in [2.69680622, 3.13931418] (s), steps=145 (1s)\n",
      "Distancias a los bordes: {0: 377.32401928025456, 1: 418.3797022133377}\n",
      "\n",
      "Time = 1600.0000 (sec), delta t in [2.78775210, 2.82488639] (s), steps=143 (1s)\n",
      "Distancias a los bordes: {0: 377.32401928025456, 1: 300.05689194916465}\n",
      "\n",
      "Time = 2000.0000 (sec), delta t in [2.82490081, 2.82885167] (s), steps=142 (1s)\n",
      "Distancias a los bordes: {0: 377.32401928025456, 1: 245.28411967664024}\n",
      "\n",
      "Time = 2400.0000 (sec), delta t in [2.82885330, 2.82904220] (s), steps=142 (1s)\n",
      "Distancias a los bordes: {0: 377.32401928025456, 1: 215.8905631259412}\n",
      "\n",
      "Time = 2800.0000 (sec), delta t in [2.82900512, 2.82905956] (s), steps=142 (1s)\n",
      "Distancias a los bordes: {0: 377.32401928025456, 1: 212.64880355399674}\n",
      "\n",
      "Time = 3200.0000 (sec), delta t in [2.82901153, 2.82919775] (s), steps=142 (1s)\n",
      "Distancias a los bordes: {0: 377.32401928025456, 1: 212.64880355399674}\n",
      "\n",
      "Time = 3600.0000 (sec), delta t in [2.72192692, 2.82924988] (s), steps=144 (1s)\n",
      "Distancias a los bordes: {0: 393.34540852029386, 1: 212.64880355399674}\n",
      "\n",
      "Time = 4000.0000 (sec), delta t in [2.64985197, 2.72177660] (s), steps=150 (1s)\n",
      "Distancias a los bordes: {0: 393.34540852029386, 1: 212.64880355399674}\n",
      "\n",
      "Time = 4400.0000 (sec), delta t in [2.62236835, 2.64979989] (s), steps=152 (1s)\n",
      "Distancias a los bordes: {0: 393.34540852029386, 1: 158.3196664493792}\n",
      "\n",
      "Time = 4800.0000 (sec), delta t in [2.58478085, 2.62227798] (s), steps=154 (1s)\n",
      "Distancias a los bordes: {0: 393.34540852029386, 1: 120.5121634173589}\n",
      "\n",
      "Time = 5200.0000 (sec), delta t in [2.46707387, 2.58462339] (s), steps=158 (1s)\n",
      "Distancias a los bordes: {0: 393.34540852029386, 1: 48.63041937923142}\n",
      "\n",
      "Figure files for each frame will be stored in figuras\n",
      "Time = 5600.0000 (sec), delta t in [0.03285768, 1.49089435] (s), steps=381 (12s)\n",
      "Distancias a los bordes: {0: 5.228882669337971, 1: 5.627072725663676}\n",
      "\n",
      "Figure files for each frame will be stored in figuras\n",
      "Time = 6000.0000 (sec), delta t in [0.01541008, 1.50918152] (s), steps=312 (15s)\n",
      "Distancias a los bordes: {0: 6.782047536305032}\n",
      "\n",
      "Time = 6400.0000 (sec), delta t in [1.19845263, 1.27788850] (s), steps=329 (5s)\n",
      "Time = 6800.0000 (sec), delta t in [1.19507279, 1.26420219] (s), steps=326 (5s)\n",
      "Time = 7200.0000 (sec), delta t in [1.26427420, 1.30655741] (s), steps=312 (5s)\n",
      "Time = 7600.0000 (sec), delta t in [1.30671193, 1.36454944] (s), steps=300 (5s)\n",
      "Time = 8000.0000 (sec), delta t in [1.36462570, 1.41037390] (s), steps=289 (5s)\n",
      "Time = 8400.0000 (sec), delta t in [1.41039452, 1.44825640] (s), steps=280 (5s)\n",
      "Time = 8800.0000 (sec), delta t in [1.44836658, 1.47878598] (s), steps=274 (4s)\n",
      "Time = 9200.0000 (sec), delta t in [1.47879807, 1.50177086] (s), steps=269 (4s)\n",
      "Time = 9600.0000 (sec), delta t in [1.50179347, 1.51920763] (s), steps=265 (4s)\n",
      "Time = 10000.0000 (sec), delta t in [1.51925624, 1.53391891] (s), steps=262 (5s)\n",
      "Time = 10400.0000 (sec), delta t in [1.53396483, 1.54502639] (s), steps=260 (5s)\n",
      "Time = 10800.0000 (sec), delta t in [1.54505747, 1.55389984] (s), steps=259 (4s)\n",
      "Time = 11200.0000 (sec), delta t in [1.55390330, 1.56033336] (s), steps=257 (4s)\n",
      "Time = 11600.0000 (sec), delta t in [1.56035212, 1.56522876] (s), steps=256 (4s)\n",
      "Time = 12000.0000 (sec), delta t in [1.56524421, 1.56892567] (s), steps=256 (5s)\n",
      "Time = 12400.0000 (sec), delta t in [1.56892863, 1.57159634] (s), steps=255 (4s)\n",
      "Time = 12800.0000 (sec), delta t in [1.57160268, 1.57366124] (s), steps=255 (4s)\n",
      "Time = 13200.0000 (sec), delta t in [1.57366391, 1.57547227] (s), steps=255 (5s)\n",
      "Time = 13600.0000 (sec), delta t in [1.57547248, 1.57689437] (s), steps=254 (4s)\n",
      "Time = 14000.0000 (sec), delta t in [1.57689815, 1.57801553] (s), steps=254 (4s)\n",
      "Time = 14400.0000 (sec), delta t in [1.57801773, 1.57888190] (s), steps=254 (4s)\n",
      "Time = 14800.0000 (sec), delta t in [1.57888313, 1.57954900] (s), steps=254 (5s)\n",
      "Time = 15200.0000 (sec), delta t in [1.57954966, 1.58005549] (s), steps=254 (6s)\n",
      "Time = 15600.0000 (sec), delta t in [1.58005583, 1.58045640] (s), steps=254 (5s)\n",
      "Time = 16000.0000 (sec), delta t in [1.58045657, 1.58078561] (s), steps=254 (5s)\n",
      "Time = 16400.0000 (sec), delta t in [1.58078569, 1.58104820] (s), steps=254 (5s)\n",
      "Time = 16800.0000 (sec), delta t in [1.58104822, 1.58126421] (s), steps=253 (5s)\n",
      "Time = 17200.0000 (sec), delta t in [1.58126502, 1.58146174] (s), steps=253 (5s)\n",
      "Time = 17600.0000 (sec), delta t in [1.58146243, 1.58163117] (s), steps=253 (4s)\n",
      "Time = 18000.0000 (sec), delta t in [1.58163173, 1.58177503] (s), steps=253 (4s)\n",
      "Time = 18400.0000 (sec), delta t in [1.58177550, 1.58189557] (s), steps=253 (4s)\n",
      "Time = 18800.0000 (sec), delta t in [1.58189595, 1.58199651] (s), steps=253 (4s)\n",
      "Time = 19200.0000 (sec), delta t in [1.58199683, 1.58207979] (s), steps=253 (4s)\n",
      "Time = 19600.0000 (sec), delta t in [1.58208003, 1.58214339] (s), steps=253 (4s)\n",
      "Time = 20000.0000 (sec), delta t in [1.58214357, 1.58219135] (s), steps=253 (4s)\n",
      "Time = 20400.0000 (sec), delta t in [1.58219149, 1.58223075] (s), steps=253 (4s)\n",
      "Time = 20800.0000 (sec), delta t in [1.58223087, 1.58226644] (s), steps=253 (4s)\n",
      "Time = 21200.0000 (sec), delta t in [1.58226655, 1.58230066] (s), steps=253 (4s)\n",
      "Time = 21600.0000 (sec), delta t in [1.58230077, 1.58233369] (s), steps=253 (4s)\n",
      "Time = 22000.0000 (sec), delta t in [1.58233379, 1.58236548] (s), steps=253 (4s)\n",
      "Time = 22400.0000 (sec), delta t in [1.58236557, 1.58239650] (s), steps=253 (5s)\n",
      "Time = 22800.0000 (sec), delta t in [1.58239660, 1.58242715] (s), steps=253 (4s)\n",
      "Time = 23200.0000 (sec), delta t in [1.58242724, 1.58245412] (s), steps=253 (4s)\n",
      "Time = 23600.0000 (sec), delta t in [1.58245419, 1.58247172] (s), steps=253 (4s)\n",
      "Time = 24000.0000 (sec), delta t in [1.58247176, 1.58248061] (s), steps=253 (4s)\n",
      "Time = 24400.0000 (sec), delta t in [1.58248063, 1.58248549] (s), steps=253 (4s)\n"
     ]
    }
   ],
   "source": [
    "simulador.ejecutar(df_input)"
   ]
  },
  {
   "cell_type": "code",
   "execution_count": 11,
   "metadata": {},
   "outputs": [],
   "source": [
    "# columns = ['tiempo_sim', 'tiempo_inicio_paso', 'elapsed']\n",
    "# df = pd.DataFrame(columns=['tiempo_sim', 'tiempo_inicio_paso',\n",
    "#                                                 'elapsed'])\n",
    "\n",
    "# df1 = pd.concat([df, pd.DataFrame(data = [[0,0,1]], columns=columns)], axis=0)\n",
    "\n",
    "\n",
    "\n",
    "# arr = simulador.domain.quantities['elevation'].save_to_array(cellsize=10,\n",
    "#                                                    easting_min=simulador.topografia.dem.columns.min(),\n",
    "#                                                    northing_min=simulador.topografia.dem.index.min(),\n",
    "#                                                    easting_max=simulador.topografia.dem.columns.max(),\n",
    "#                                                    northing_max=simulador.topografia.dem.index.max())"
   ]
  },
  {
   "cell_type": "code",
   "execution_count": 11,
   "metadata": {},
   "outputs": [],
   "source": [
    "# DEBUGGING \n",
    "\n",
    "centroides_old = simulador.centroides_old\n",
    "centroides_new = simulador.centroides_new\n",
    "stage_old = simulador.stage_old\n",
    "stage_new = simulador.stage_new"
   ]
  },
  {
   "cell_type": "code",
   "execution_count": 36,
   "metadata": {},
   "outputs": [],
   "source": [
    "# Guardamos los datos en formato pickle\n",
    "import pickle\n",
    "with open('debugging.pkl', 'wb') as f:\n",
    "    pickle.dump([centroides_old, centroides_new, stage_old, stage_new], f)"
   ]
  }
 ],
 "metadata": {
  "kernelspec": {
   "display_name": "anuga_env",
   "language": "python",
   "name": "python3"
  },
  "language_info": {
   "codemirror_mode": {
    "name": "ipython",
    "version": 3
   },
   "file_extension": ".py",
   "mimetype": "text/x-python",
   "name": "python",
   "nbconvert_exporter": "python",
   "pygments_lexer": "ipython3",
   "version": "3.10.12"
  }
 },
 "nbformat": 4,
 "nbformat_minor": 2
}
